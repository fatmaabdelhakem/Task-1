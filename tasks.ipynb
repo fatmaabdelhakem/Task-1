{
 "cells": [
  {
   "cell_type": "code",
   "execution_count": 3,
   "id": "cfc60aab",
   "metadata": {},
   "outputs": [
    {
     "data": {
      "image/png": "[encoded data removed]",
      "text/plain": [
       "<Figure size 432x288 with 1 Axes>"
      ]
     },
     "metadata": {},
     "output_type": "display_data"
    }
   ],
   "source": [
    "# Task 1\n",
    "\n",
    "import networkx as nx\n",
    "F = nx.Graph()\n",
    "F.add_nodes_from([1,2,3,4,5,6,7,8])\n",
    "F.add_edges_from([(1,2),(1, 3), (1, 4), (1, 6),(2,3),(2,4),(3,6),(5,8),(7,1)])\n",
    "nx.draw(F, with_labels=True,node_color='red',\n",
    "        node_size=1000,\n",
    "        font_color='white')\n"
   ]
  },
  {
   "cell_type": "code",
   "execution_count": 25,
   "id": "45eefd7d",
   "metadata": {},
   "outputs": [],
   "source": [
    "def plot_degree_dist(F):\n",
    "    \n",
    "    degrees = F.degree()\n",
    "    degrees = dict(degrees)\n",
    "    values = sorted(set(degrees.values()))\n",
    "    print(values)\n",
    "    histo = [list(degrees.values()).count(x) for x in values]\n",
    "    P_k = [x / F.order() for x in histo]\n",
    "    print(len(P_k))\n",
    "    \n",
    "    plt.figure()\n",
    "    plt.bar(values, P_k)\n",
    "    plt.xlabel(\"k\",fontsize=20)\n",
    "    plt.ylabel(\"p(k)\", fontsize=20)\n",
    "    plt.title(\"Degree Distribution\", fontsize=20)\n",
    "    \n",
    "    plt.show()\n",
    "    plt.figure()\n",
    "    plt.grid(False)\n",
    "    plt.loglog(values, P_k, \"bo\")\n",
    "    plt.xlabel(\"k\", fontsize=20)\n",
    "    plt.ylabel(\"log p(k)\", fontsize=20)\n",
    "    plt.title(\"log Degree Distribution\")\n",
    "    plt.show()\n",
    "    plt.show()  "
   ]
  },
  {
   "cell_type": "code",
   "execution_count": 73,
   "id": "52c63cd9",
   "metadata": {},
   "outputs": [
    {
     "data": {
      "text/plain": [
       "<BarContainer object of 5 artists>"
      ]
     },
     "execution_count": 73,
     "metadata": {},
     "output_type": "execute_result"
    },
    {
     "data": {
      "image/png": "[encoded data removed]",
      "text/plain": [
       "<Figure size 432x288 with 1 Axes>"
      ]
     },
     "metadata": {
      "needs_background": "light"
     },
     "output_type": "display_data"
    }
   ],
   "source": [
    "from collections import Counter\n",
    "degree_sequence = [F.degree(n) for n in F.nodes]\n",
    "degree_counts = Counter(degree_sequence)\n",
    "min_degree, max_degree = min(degree_counts.keys()), max(degree_counts.keys())\n",
    "plt.xlabel(\"Degree\", fontsize=20)\n",
    "plt.ylabel(\"Number of Nodes\", fontsize=20)\n",
    "plot_x = list(range(min_degree, max_degree + 1))\n",
    "plot_y = [degree_counts.get(x, 0) for x in plot_x]\n",
    "plt.bar(plot_x, plot_y)"
   ]
  },
  {
   "cell_type": "code",
   "execution_count": 68,
   "id": "5ad37834",
   "metadata": {},
   "outputs": [],
   "source": [
    "Adj = nx.adjacency_matrix(F) "
   ]
  },
  {
   "cell_type": "code",
   "execution_count": 69,
   "id": "cd5741a5",
   "metadata": {},
   "outputs": [
    {
     "name": "stdout",
     "output_type": "stream",
     "text": [
      "[[0 1 0 0 0 0]\n",
      " [0 0 1 1 0 0]\n",
      " [1 1 0 0 0 0]\n",
      " [1 0 0 0 0 0]\n",
      " [0 0 0 0 0 0]\n",
      " [1 0 1 0 0 0]]\n"
     ]
    }
   ],
   "source": [
    "print(Adj.todense())"
   ]
  },
  {
   "cell_type": "code",
   "execution_count": 61,
   "id": "9ad76725",
   "metadata": {},
   "outputs": [
    {
     "data": {
      "image/png": "[encoded data removed]",
      "text/plain": [
       "<Figure size 432x288 with 1 Axes>"
      ]
     },
     "metadata": {},
     "output_type": "display_data"
    }
   ],
   "source": [
    "# Task 2\n",
    "\n",
    "g = nx.DiGraph()\n",
    "g.add_nodes_from([1,2,3,4,5,6])\n",
    "g.add_edges_from([\n",
    "    (1,2),\n",
    "    (2,3),(2,4),\n",
    "    (3,1), (3,2),\n",
    "    (4,1),\n",
    "    (6,1),\n",
    "    (6,3),\n",
    "])\n",
    "nx.draw(g, with_labels=True,node_color='#283618',\n",
    "        node_size=1000)"
   ]
  },
  {
   "cell_type": "code",
   "execution_count": 62,
   "id": "f0ae42a5",
   "metadata": {},
   "outputs": [],
   "source": [
    "def plot_degree_dist(F):\n",
    "    \n",
    "    degrees = g.degree()\n",
    "    degrees = dict(degrees)\n",
    "    values = sorted(set(degrees.values()))\n",
    "    print(values)\n",
    "    histo = [list(degrees.values()).count(x) for x in values]\n",
    "    P_k = [x / g.order() for x in histo]\n",
    "    print(len(P_k))\n",
    "    \n",
    "    plt.figure()\n",
    "    plt.bar(values, P_k)\n",
    "    plt.xlabel(\"k\",fontsize=20)\n",
    "    plt.ylabel(\"p(k)\", fontsize=20)\n",
    "    plt.title(\"Degree Distribution\", fontsize=20)\n",
    "    \n",
    "    plt.show()\n",
    "    plt.figure()\n",
    "    plt.grid(False)\n",
    "    plt.loglog(values, P_k, \"bo\")\n",
    "    plt.xlabel(\"k\", fontsize=20)\n",
    "    plt.ylabel(\"log p(k)\", fontsize=20)\n",
    "    plt.title(\"log Degree Distribution\")\n",
    "    plt.show()\n",
    "    plt.show()  "
   ]
  },
  {
   "cell_type": "code",
   "execution_count": 74,
   "id": "79e159eb",
   "metadata": {},
   "outputs": [
    {
     "data": {
      "text/plain": [
       "<BarContainer object of 5 artists>"
      ]
     },
     "execution_count": 74,
     "metadata": {},
     "output_type": "execute_result"
    },
    {
     "data": {
      "image/png": "[encoded data removed]",
      "text/plain": [
       "<Figure size 432x288 with 1 Axes>"
      ]
     },
     "metadata": {
      "needs_background": "light"
     },
     "output_type": "display_data"
    }
   ],
   "source": [
    "from collections import Counter\n",
    "degree_sequence = [g.degree(n) for n in g.nodes]\n",
    "degree_counts = Counter(degree_sequence)\n",
    "min_degree, max_degree = min(degree_counts.keys()), max(degree_counts.keys())\n",
    "plt.xlabel(\"Degree\", fontsize=20)\n",
    "plt.ylabel(\"Number of Nodes\", fontsize=20)\n",
    "plot_x = list(range(min_degree, max_degree + 1))\n",
    "plot_y = [degree_counts.get(x, 0) for x in plot_x]\n",
    "plt.bar(plot_x, plot_y)"
   ]
  },
  {
   "cell_type": "code",
   "execution_count": 71,
   "id": "2cff9daf",
   "metadata": {},
   "outputs": [],
   "source": [
    "A = nx.adjacency_matrix(g) "
   ]
  },
  {
   "cell_type": "code",
   "execution_count": 72,
   "id": "720f58ad",
   "metadata": {},
   "outputs": [
    {
     "name": "stdout",
     "output_type": "stream",
     "text": [
      "[[0 1 0 0 0 0]\n",
      " [0 0 1 1 0 0]\n",
      " [1 1 0 0 0 0]\n",
      " [1 0 0 0 0 0]\n",
      " [0 0 0 0 0 0]\n",
      " [1 0 1 0 0 0]]\n"
     ]
    }
   ],
   "source": [
    "print(A.todense())"
   ]
  },
  {
   "cell_type": "code",
   "execution_count": null,
   "id": "a38878bb",
   "metadata": {},
   "outputs": [],
   "source": []
  }
 ],
 "metadata": {
  "kernelspec": {
   "display_name": "Python 3 (ipykernel)",
   "language": "python",
   "name": "python3"
  },
  "language_info": {
   "codemirror_mode": {
    "name": "ipython",
    "version": 3
   },
   "file_extension": ".py",
   "mimetype": "text/x-python",
   "name": "python",
   "nbconvert_exporter": "python",
   "pygments_lexer": "ipython3",
   "version": "3.9.7"
  }
 },
 "nbformat": 4,
 "nbformat_minor": 5
}
